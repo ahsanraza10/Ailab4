{
 "cells": [
  {
   "cell_type": "code",
   "execution_count": 2,
   "id": "480057f4-34e1-4d5b-a802-37733195c052",
   "metadata": {},
   "outputs": [
    {
     "name": "stdout",
     "output_type": "stream",
     "text": [
      "Confusion Matrix:\n",
      "[[1 0]\n",
      " [0 2]]\n",
      "Accuracy: 1.0\n"
     ]
    }
   ],
   "source": [
    "from sklearn import preprocessing\n",
    "from sklearn.naive_bayes import GaussianNB\n",
    "from sklearn.metrics import confusion_matrix, accuracy_score\n",
    "weather = ['Sunny', 'Sunny', 'Overcast', 'Rain', 'Rain', \n",
    "           'Overcast', 'Sunny', 'Rain', 'Sunny', 'Overcast', 'Rain']\n",
    "temperature = ['Hot', 'Mild', 'Hot', 'Mild', 'Cool', \n",
    "               'Cool', 'Cool', 'Mild', 'Mild', 'Hot', 'Mild']\n",
    "play = ['No', 'No', 'Yes', 'Yes', 'No', \n",
    "        'Yes', 'Yes', 'Yes', 'No', 'Yes', 'No']\n",
    "#creating labelEncoder\n",
    "le = preprocessing.LabelEncoder()\n",
    "# Converting string into numbers.\n",
    "weather_encoded=le.fit_transform(weather)\n",
    "temperature_encoded=le.fit_transform(temperature)\n",
    "play_encoded=le.fit_transform(play)\n",
    "features=list(zip(weather_encoded,temperature_encoded))\n",
    "from sklearn.model_selection import train_test_split\n",
    "features_train, features_test,label_train,label_test=train_test_split(features, play_encoded, test_size=0.2, random_state=42)\n",
    "model = GaussianNB()\n",
    "model.fit(features_train, label_train)\n",
    "predicted = model.predict(features_test)\n",
    "conf_mat = confusion_matrix(label_test, predicted)\n",
    "print(\"Confusion Matrix:\")\n",
    "print(conf_mat)\n",
    "accuracy = accuracy_score(label_test, predicted)\n",
    "print(\"Accuracy:\", accuracy)"
   ]
  },
  {
   "cell_type": "code",
   "execution_count": null,
   "id": "59e63c08-fcc9-4991-b75c-31419093b974",
   "metadata": {},
   "outputs": [],
   "source": []
  }
 ],
 "metadata": {
  "kernelspec": {
   "display_name": "Python 3 (ipykernel)",
   "language": "python",
   "name": "python3"
  },
  "language_info": {
   "codemirror_mode": {
    "name": "ipython",
    "version": 3
   },
   "file_extension": ".py",
   "mimetype": "text/x-python",
   "name": "python",
   "nbconvert_exporter": "python",
   "pygments_lexer": "ipython3",
   "version": "3.11.7"
  }
 },
 "nbformat": 4,
 "nbformat_minor": 5
}
